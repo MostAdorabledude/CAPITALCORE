{
 "cells": [
  {
   "cell_type": "code",
   "execution_count": 42,
   "id": "efd7e265",
   "metadata": {},
   "outputs": [],
   "source": [
    "import pandas as pd\n",
    "import numpy as np\n",
    "import matplotlib.pyplot as plt"
   ]
  },
  {
   "cell_type": "code",
   "execution_count": 43,
   "id": "ac4f905c",
   "metadata": {},
   "outputs": [],
   "source": [
    "matplotlib inline"
   ]
  },
  {
   "cell_type": "code",
   "execution_count": 44,
   "id": "f38d6c12",
   "metadata": {},
   "outputs": [],
   "source": [
    "promnt=pd.read_csv(r'C:\\Users\\Paul Fadayini\\Desktop\\titucodes\\dataresources\\procurement dataset.csv',  encoding = 'latin1')"
   ]
  },
  {
   "cell_type": "code",
   "execution_count": 45,
   "id": "2653ec38",
   "metadata": {},
   "outputs": [
    {
     "name": "stdout",
     "output_type": "stream",
     "text": [
      "<class 'pandas.core.frame.DataFrame'>\n",
      "RangeIndex: 26486 entries, 0 to 26485\n",
      "Data columns (total 18 columns):\n",
      " #   Column            Non-Null Count  Dtype  \n",
      "---  ------            --------------  -----  \n",
      " 0   Request Date      26485 non-null  object \n",
      " 1   RequestID         26485 non-null  object \n",
      " 2   Requester Name    26485 non-null  object \n",
      " 3   Approval Date     26485 non-null  object \n",
      " 4   Activity Name     8172 non-null   object \n",
      " 5   Category          26485 non-null  object \n",
      " 6   Item Description  26484 non-null  object \n",
      " 7   Justification     26485 non-null  object \n",
      " 8   Suggest Vendor    25200 non-null  object \n",
      " 9   Department        26485 non-null  object \n",
      " 10  Country           26485 non-null  object \n",
      " 11  Cost Centre       4825 non-null   object \n",
      " 12  Line Manager      26485 non-null  object \n",
      " 13  Budget Holder     26485 non-null  object \n",
      " 14  PBM               26485 non-null  object \n",
      " 15  Sourcing Manager  26485 non-null  object \n",
      " 16  Current Status    26485 non-null  object \n",
      " 17  Estimated_Budget  26485 non-null  float64\n",
      "dtypes: float64(1), object(17)\n",
      "memory usage: 3.6+ MB\n"
     ]
    }
   ],
   "source": [
    "promnt.info()"
   ]
  },
  {
   "cell_type": "markdown",
   "id": "82b4f272",
   "metadata": {},
   "source": [
    "# COST KPI"
   ]
  },
  {
   "cell_type": "markdown",
   "id": "96889ba6",
   "metadata": {},
   "source": [
    "#1aTO CALCULATE THE TOTAL ESTIMATED BUDGET FOR \n",
    "ORDER REQUEST"
   ]
  },
  {
   "cell_type": "code",
   "execution_count": 47,
   "id": "62571a5c",
   "metadata": {},
   "outputs": [
    {
     "name": "stdout",
     "output_type": "stream",
     "text": [
      "68946808348.387\n"
     ]
    }
   ],
   "source": [
    "total_estimated_budget=promnt['Estimated_Budget'].sum()\n",
    "print(total_estimated_budget)"
   ]
  },
  {
   "cell_type": "markdown",
   "id": "85c2071a",
   "metadata": {},
   "source": [
    "1b THE CATEGORY WITH THE BIGGEST ESTIMATED BUDGET"
   ]
  },
  {
   "cell_type": "code",
   "execution_count": 48,
   "id": "c969eb31",
   "metadata": {},
   "outputs": [
    {
     "data": {
      "text/plain": [
       "Category\n",
       "Building                    3.811453e+09\n",
       "Building Services           6.591663e+09\n",
       "Car Expenses                6.096997e+09\n",
       "Facilities Services         6.301118e+09\n",
       "Finance Finance Services    1.915399e+08\n",
       "Name: Estimated_Budget, dtype: float64"
      ]
     },
     "execution_count": 48,
     "metadata": {},
     "output_type": "execute_result"
    }
   ],
   "source": [
    "#first categorize the budget by categories of products\n",
    "Budget_by_cat=promnt.groupby(['Category'])['Estimated_Budget'].sum()\n",
    "Budget_by_cat.head()"
   ]
  },
  {
   "cell_type": "code",
   "execution_count": 49,
   "id": "1b944dd4",
   "metadata": {},
   "outputs": [
    {
     "data": {
      "text/plain": [
       "Category\n",
       "Marketing & Trade               2.639549e+10\n",
       "Building Services               6.591663e+09\n",
       "Facilities Services             6.301118e+09\n",
       "Car Expenses                    6.096997e+09\n",
       "Building                        3.811453e+09\n",
       "Production                      3.252505e+09\n",
       "Other Consultancy Fees          3.177844e+09\n",
       "Hr Professional Services        3.038240e+09\n",
       "Office Services And Supplies    2.513403e+09\n",
       "It Services & Equipment         2.330005e+09\n",
       "Legal Services                  1.886431e+09\n",
       "Other Hr Services               1.251217e+09\n",
       "Logistic                        4.143157e+08\n",
       "Travel                          4.022841e+08\n",
       "Politics & Civic Affairs        3.579312e+08\n",
       "Insurance                       3.572773e+08\n",
       "Tax                             2.112156e+08\n",
       "Finance Finance Services        1.915399e+08\n",
       "Logistics                       1.505784e+08\n",
       "Travel & Entertainment          1.392963e+08\n",
       "Telecom                         6.191330e+07\n",
       "Financial Services              1.408783e+07\n",
       "Name: Estimated_Budget, dtype: float64"
      ]
     },
     "execution_count": 49,
     "metadata": {},
     "output_type": "execute_result"
    }
   ],
   "source": [
    "#then sort them in order from category with highest budget to lowest\n",
    "Budget_by_cat.sort_values(ascending=False)"
   ]
  },
  {
   "cell_type": "code",
   "execution_count": 62,
   "id": "d491f538",
   "metadata": {},
   "outputs": [],
   "source": [
    "#to check if that was right\n",
    "value=Budget_by_cat.max()"
   ]
  },
  {
   "cell_type": "code",
   "execution_count": 69,
   "id": "10018894",
   "metadata": {},
   "outputs": [
    {
     "name": "stdout",
     "output_type": "stream",
     "text": [
      "Marketing & Trade is the Category with the highest budget of 26395493350.03\n"
     ]
    }
   ],
   "source": [
    "print(\"Marketing & Trade is the Category with the highest budget of\" + \" \" + str(value))"
   ]
  },
  {
   "cell_type": "code",
   "execution_count": null,
   "id": "c0f796b4",
   "metadata": {},
   "outputs": [],
   "source": []
  },
  {
   "cell_type": "markdown",
   "id": "27ecea18",
   "metadata": {},
   "source": [
    "1c THE CATEGORY WITH THE LOWEST ESTIMATED BUDGET"
   ]
  },
  {
   "cell_type": "code",
   "execution_count": 29,
   "id": "95a3ef6f",
   "metadata": {},
   "outputs": [
    {
     "data": {
      "text/plain": [
       "Category\n",
       "Financial Services              1.408783e+07\n",
       "Telecom                         6.191330e+07\n",
       "Travel & Entertainment          1.392963e+08\n",
       "Logistics                       1.505784e+08\n",
       "Finance Finance Services        1.915399e+08\n",
       "Tax                             2.112156e+08\n",
       "Insurance                       3.572773e+08\n",
       "Politics & Civic Affairs        3.579312e+08\n",
       "Travel                          4.022841e+08\n",
       "Logistic                        4.143157e+08\n",
       "Other Hr Services               1.251217e+09\n",
       "Legal Services                  1.886431e+09\n",
       "It Services & Equipment         2.330005e+09\n",
       "Office Services And Supplies    2.513403e+09\n",
       "Hr Professional Services        3.038240e+09\n",
       "Other Consultancy Fees          3.177844e+09\n",
       "Production                      3.252505e+09\n",
       "Building                        3.811453e+09\n",
       "Car Expenses                    6.096997e+09\n",
       "Facilities Services             6.301118e+09\n",
       "Building Services               6.591663e+09\n",
       "Marketing & Trade               2.639549e+10\n",
       "Name: Estimated  Budget, dtype: float64"
      ]
     },
     "execution_count": 29,
     "metadata": {},
     "output_type": "execute_result"
    }
   ],
   "source": [
    "#then sort them in order from category with lowest budget to highest\n",
    "Budget_by_cat.sort_values(ascending=True)"
   ]
  },
  {
   "cell_type": "code",
   "execution_count": 30,
   "id": "8d5ec6f6",
   "metadata": {},
   "outputs": [
    {
     "data": {
      "text/plain": [
       "14087830.0"
      ]
     },
     "execution_count": 30,
     "metadata": {},
     "output_type": "execute_result"
    }
   ],
   "source": [
    "#to check if that was right\n",
    "Budget_by_cat.min()"
   ]
  },
  {
   "cell_type": "code",
   "execution_count": 70,
   "id": "5e2d66b7",
   "metadata": {},
   "outputs": [
    {
     "name": "stdout",
     "output_type": "stream",
     "text": [
      "Financial Services is the Category with the lowest budget of 26395493350.03\n"
     ]
    }
   ],
   "source": [
    "print(\"Financial Services is the Category with the lowest budget of\" + \" \" + str(value))"
   ]
  },
  {
   "cell_type": "markdown",
   "id": "682a000f",
   "metadata": {},
   "source": [
    "1d. THE ORDER REQUEST WITH THE LARGEST ESTIMATED BUDGET "
   ]
  },
  {
   "cell_type": "code",
   "execution_count": 112,
   "id": "75c59616",
   "metadata": {
    "scrolled": true
   },
   "outputs": [
    {
     "name": "stdout",
     "output_type": "stream",
     "text": [
      "THE ORDER REQUEST WITH THE LARGEST ESTIMATED BUDGET IS :Estimated_Budget    1.214338e+09\n",
      "Name: (10/17/2017, Tooling Kit For B&H Menthol Boost Pug Crest Rework), dtype: float64\n"
     ]
    }
   ],
   "source": [
    "Budget_by_order0=promnt.groupby(by=['Approval Date','Item Description']).agg({'Estimated_Budget':'sum'})\n",
    "largest_order=Budget_by_order0.sort_values(by=[\"Estimated_Budget\"],ascending=False)\n",
    "order1=largest_order.iloc[0]\n",
    "print(\"THE ORDER REQUEST WITH THE LARGEST ESTIMATED BUDGET IS :\" + str(order1))"
   ]
  },
  {
   "cell_type": "markdown",
   "id": "c428667e",
   "metadata": {},
   "source": [
    "# 2. Lead TIME KPI"
   ]
  },
  {
   "cell_type": "code",
   "execution_count": 83,
   "id": "b7bb6778",
   "metadata": {},
   "outputs": [],
   "source": [
    "#first I converted the order date and approval date to datetime\n",
    "promnt['approval_time']=pd.to_datetime(promnt['Approval Date'])\n",
    "promnt['Request_Date']=pd.to_datetime(promnt['Request Date'])"
   ]
  },
  {
   "cell_type": "code",
   "execution_count": 84,
   "id": "abc9e3cd",
   "metadata": {},
   "outputs": [
    {
     "data": {
      "text/html": [
       "<div>\n",
       "<style scoped>\n",
       "    .dataframe tbody tr th:only-of-type {\n",
       "        vertical-align: middle;\n",
       "    }\n",
       "\n",
       "    .dataframe tbody tr th {\n",
       "        vertical-align: top;\n",
       "    }\n",
       "\n",
       "    .dataframe thead th {\n",
       "        text-align: right;\n",
       "    }\n",
       "</style>\n",
       "<table border=\"1\" class=\"dataframe\">\n",
       "  <thead>\n",
       "    <tr style=\"text-align: right;\">\n",
       "      <th></th>\n",
       "      <th>Request Date</th>\n",
       "      <th>RequestID</th>\n",
       "      <th>Requester Name</th>\n",
       "      <th>Approval Date</th>\n",
       "      <th>Activity Name</th>\n",
       "      <th>Category</th>\n",
       "      <th>Item Description</th>\n",
       "      <th>Justification</th>\n",
       "      <th>Suggest Vendor</th>\n",
       "      <th>Department</th>\n",
       "      <th>Country</th>\n",
       "      <th>Cost Centre</th>\n",
       "      <th>Line Manager</th>\n",
       "      <th>Budget Holder</th>\n",
       "      <th>PBM</th>\n",
       "      <th>Sourcing Manager</th>\n",
       "      <th>Current Status</th>\n",
       "      <th>Estimated_Budget</th>\n",
       "      <th>approval_time</th>\n",
       "      <th>Request_Date</th>\n",
       "    </tr>\n",
       "  </thead>\n",
       "  <tbody>\n",
       "    <tr>\n",
       "      <th>0</th>\n",
       "      <td>11/30/2020</td>\n",
       "      <td>DDSS-BVUHR9</td>\n",
       "      <td>Mojeed Bello</td>\n",
       "      <td>12/15/2020</td>\n",
       "      <td>Modification And Installation Of Infeed Fbd Vi...</td>\n",
       "      <td>Production</td>\n",
       "      <td>1 No Modification And Installation Of Infeed F...</td>\n",
       "      <td>Modification And Installation Of Infeed Fbd Vi...</td>\n",
       "      <td>Hajek,Peklak,Micoe,Fizer</td>\n",
       "      <td>PMD</td>\n",
       "      <td>Ibadan</td>\n",
       "      <td>NaN</td>\n",
       "      <td>Akezhi_Jo-Madugu</td>\n",
       "      <td>Ibukun_Dahunsi</td>\n",
       "      <td>Oluwadare_Adejoorin</td>\n",
       "      <td>Collete_Ogu</td>\n",
       "      <td>Approved</td>\n",
       "      <td>1000000.0</td>\n",
       "      <td>2020-12-15</td>\n",
       "      <td>2020-11-30</td>\n",
       "    </tr>\n",
       "    <tr>\n",
       "      <th>1</th>\n",
       "      <td>11/30/2020</td>\n",
       "      <td>DDSS-BVUG5R</td>\n",
       "      <td>Eunice Tangnjo Ndifor</td>\n",
       "      <td>2/18/2021</td>\n",
       "      <td>Complimentary Fourniture New Site Maoire Lineaire</td>\n",
       "      <td>Facilities Services</td>\n",
       "      <td>Single Cupbaord For Single Office</td>\n",
       "      <td>Single Cupboard For Office</td>\n",
       "      <td>Ste Camci</td>\n",
       "      <td>Marketing</td>\n",
       "      <td>Cameroon</td>\n",
       "      <td>NaN</td>\n",
       "      <td>Junior_Mutoke</td>\n",
       "      <td>Junior_Mutoke</td>\n",
       "      <td>Oluwadare_Adejoorin</td>\n",
       "      <td>Lou-Andreas_Rigondja</td>\n",
       "      <td>Awaiting Approval</td>\n",
       "      <td>180000.0</td>\n",
       "      <td>2021-02-18</td>\n",
       "      <td>2020-11-30</td>\n",
       "    </tr>\n",
       "    <tr>\n",
       "      <th>2</th>\n",
       "      <td>11/30/2020</td>\n",
       "      <td>DDSS-BVUCYB</td>\n",
       "      <td>Eunice Tangnjo Ndifor</td>\n",
       "      <td>11/29/2020</td>\n",
       "      <td>Splits For The Chill Out Room</td>\n",
       "      <td>Facilities Services</td>\n",
       "      <td>Purchase  Of 2 New Splits Of 3 Ac To 6Cv For T...</td>\n",
       "      <td>Purchase Of Splits For Chill Out Room New Office</td>\n",
       "      <td>Procurement To Source</td>\n",
       "      <td>Facilities</td>\n",
       "      <td>Cameroon</td>\n",
       "      <td>CMCACB0A01-FACILITIES</td>\n",
       "      <td>Junior_Mutoke</td>\n",
       "      <td>Daniele_Enganeben</td>\n",
       "      <td>Oluwadare_Adejoorin</td>\n",
       "      <td>Lou-Andreas_Rigondja</td>\n",
       "      <td>Awaiting Approval</td>\n",
       "      <td>21017909.0</td>\n",
       "      <td>2020-11-29</td>\n",
       "      <td>2020-11-30</td>\n",
       "    </tr>\n",
       "    <tr>\n",
       "      <th>3</th>\n",
       "      <td>11/30/2020</td>\n",
       "      <td>DDSS-BVUCF5</td>\n",
       "      <td>Eunice Tangnjo Ndifor</td>\n",
       "      <td>11/30/2020</td>\n",
       "      <td>Cameroon Office Remodeling Office Equipement</td>\n",
       "      <td>Facilities Services</td>\n",
       "      <td>Office Materials Iron Shevles And Cupboard</td>\n",
       "      <td>Complimentary Office Equipement - Wbs Xcmcac.L...</td>\n",
       "      <td>Ste Camci</td>\n",
       "      <td>Marketing</td>\n",
       "      <td>Cameroon</td>\n",
       "      <td>CMCA2E1E01-TM&amp;D OFF-DISTRIBUTN</td>\n",
       "      <td>Junior_Mutoke</td>\n",
       "      <td>Junior_Mutoke</td>\n",
       "      <td>Oluwadare_Adejoorin</td>\n",
       "      <td>Lou-Andreas_Rigondja</td>\n",
       "      <td>Awaiting Approval</td>\n",
       "      <td>1300000.0</td>\n",
       "      <td>2020-11-30</td>\n",
       "      <td>2020-11-30</td>\n",
       "    </tr>\n",
       "    <tr>\n",
       "      <th>4</th>\n",
       "      <td>11/26/2020</td>\n",
       "      <td>DDSS-BVQMK5</td>\n",
       "      <td>Myrrha Akina</td>\n",
       "      <td>11/26/2020</td>\n",
       "      <td>Dks Lights Relaunch In Gabon</td>\n",
       "      <td>Marketing &amp; Trade</td>\n",
       "      <td>Mini Transistors</td>\n",
       "      <td>Mini Transistors For Retailer'S Incentive For ...</td>\n",
       "      <td>Tba</td>\n",
       "      <td>Marketing</td>\n",
       "      <td>Gabon</td>\n",
       "      <td>GACA2D1A00 - BRAND MKTG-FUNCT MGT</td>\n",
       "      <td>Lesly_Noundja</td>\n",
       "      <td>Victoria_Olorunfemi</td>\n",
       "      <td>Oluwadare_Adejoorin</td>\n",
       "      <td>Lou-Andreas_Rigondja</td>\n",
       "      <td>Approved</td>\n",
       "      <td>640000.0</td>\n",
       "      <td>2020-11-26</td>\n",
       "      <td>2020-11-26</td>\n",
       "    </tr>\n",
       "  </tbody>\n",
       "</table>\n",
       "</div>"
      ],
      "text/plain": [
       "  Request Date    RequestID         Requester Name Approval Date  \\\n",
       "0   11/30/2020  DDSS-BVUHR9           Mojeed Bello    12/15/2020   \n",
       "1   11/30/2020  DDSS-BVUG5R  Eunice Tangnjo Ndifor     2/18/2021   \n",
       "2   11/30/2020  DDSS-BVUCYB  Eunice Tangnjo Ndifor    11/29/2020   \n",
       "3   11/30/2020  DDSS-BVUCF5  Eunice Tangnjo Ndifor    11/30/2020   \n",
       "4   11/26/2020  DDSS-BVQMK5           Myrrha Akina    11/26/2020   \n",
       "\n",
       "                                       Activity Name             Category  \\\n",
       "0  Modification And Installation Of Infeed Fbd Vi...           Production   \n",
       "1  Complimentary Fourniture New Site Maoire Lineaire  Facilities Services   \n",
       "2                      Splits For The Chill Out Room  Facilities Services   \n",
       "3       Cameroon Office Remodeling Office Equipement  Facilities Services   \n",
       "4                       Dks Lights Relaunch In Gabon    Marketing & Trade   \n",
       "\n",
       "                                    Item Description  \\\n",
       "0  1 No Modification And Installation Of Infeed F...   \n",
       "1                  Single Cupbaord For Single Office   \n",
       "2  Purchase  Of 2 New Splits Of 3 Ac To 6Cv For T...   \n",
       "3         Office Materials Iron Shevles And Cupboard   \n",
       "4                                   Mini Transistors   \n",
       "\n",
       "                                       Justification  \\\n",
       "0  Modification And Installation Of Infeed Fbd Vi...   \n",
       "1                         Single Cupboard For Office   \n",
       "2   Purchase Of Splits For Chill Out Room New Office   \n",
       "3  Complimentary Office Equipement - Wbs Xcmcac.L...   \n",
       "4  Mini Transistors For Retailer'S Incentive For ...   \n",
       "\n",
       "             Suggest Vendor  Department   Country  \\\n",
       "0  Hajek,Peklak,Micoe,Fizer         PMD    Ibadan   \n",
       "1                 Ste Camci   Marketing  Cameroon   \n",
       "2     Procurement To Source  Facilities  Cameroon   \n",
       "3                 Ste Camci   Marketing  Cameroon   \n",
       "4                       Tba   Marketing     Gabon   \n",
       "\n",
       "                         Cost Centre      Line Manager        Budget Holder  \\\n",
       "0                                NaN  Akezhi_Jo-Madugu       Ibukun_Dahunsi   \n",
       "1                                NaN     Junior_Mutoke        Junior_Mutoke   \n",
       "2              CMCACB0A01-FACILITIES     Junior_Mutoke    Daniele_Enganeben   \n",
       "3     CMCA2E1E01-TM&D OFF-DISTRIBUTN     Junior_Mutoke        Junior_Mutoke   \n",
       "4  GACA2D1A00 - BRAND MKTG-FUNCT MGT     Lesly_Noundja  Victoria_Olorunfemi   \n",
       "\n",
       "                   PBM      Sourcing Manager     Current Status  \\\n",
       "0  Oluwadare_Adejoorin           Collete_Ogu           Approved   \n",
       "1  Oluwadare_Adejoorin  Lou-Andreas_Rigondja  Awaiting Approval   \n",
       "2  Oluwadare_Adejoorin  Lou-Andreas_Rigondja  Awaiting Approval   \n",
       "3  Oluwadare_Adejoorin  Lou-Andreas_Rigondja  Awaiting Approval   \n",
       "4  Oluwadare_Adejoorin  Lou-Andreas_Rigondja           Approved   \n",
       "\n",
       "   Estimated_Budget approval_time Request_Date  \n",
       "0         1000000.0    2020-12-15   2020-11-30  \n",
       "1          180000.0    2021-02-18   2020-11-30  \n",
       "2        21017909.0    2020-11-29   2020-11-30  \n",
       "3         1300000.0    2020-11-30   2020-11-30  \n",
       "4          640000.0    2020-11-26   2020-11-26  "
      ]
     },
     "execution_count": 84,
     "metadata": {},
     "output_type": "execute_result"
    }
   ],
   "source": [
    "promnt.head()"
   ]
  },
  {
   "cell_type": "code",
   "execution_count": 101,
   "id": "bb030c70",
   "metadata": {},
   "outputs": [
    {
     "ename": "TypeError",
     "evalue": "unsupported operand type(s) for -: 'str' and 'str'",
     "output_type": "error",
     "traceback": [
      "\u001b[1;31m---------------------------------------------------------------------------\u001b[0m",
      "\u001b[1;31mTypeError\u001b[0m                                 Traceback (most recent call last)",
      "File \u001b[1;32mC:\\ProgramData\\Anaconda3\\envs\\datascience\\lib\\site-packages\\pandas\\core\\ops\\array_ops.py:163\u001b[0m, in \u001b[0;36m_na_arithmetic_op\u001b[1;34m(left, right, op, is_cmp)\u001b[0m\n\u001b[0;32m    162\u001b[0m \u001b[38;5;28;01mtry\u001b[39;00m:\n\u001b[1;32m--> 163\u001b[0m     result \u001b[38;5;241m=\u001b[39m \u001b[43mfunc\u001b[49m\u001b[43m(\u001b[49m\u001b[43mleft\u001b[49m\u001b[43m,\u001b[49m\u001b[43m \u001b[49m\u001b[43mright\u001b[49m\u001b[43m)\u001b[49m\n\u001b[0;32m    164\u001b[0m \u001b[38;5;28;01mexcept\u001b[39;00m \u001b[38;5;167;01mTypeError\u001b[39;00m:\n",
      "File \u001b[1;32mC:\\ProgramData\\Anaconda3\\envs\\datascience\\lib\\site-packages\\pandas\\core\\computation\\expressions.py:239\u001b[0m, in \u001b[0;36mevaluate\u001b[1;34m(op, a, b, use_numexpr)\u001b[0m\n\u001b[0;32m    237\u001b[0m     \u001b[38;5;28;01mif\u001b[39;00m use_numexpr:\n\u001b[0;32m    238\u001b[0m         \u001b[38;5;66;03m# error: \"None\" not callable\u001b[39;00m\n\u001b[1;32m--> 239\u001b[0m         \u001b[38;5;28;01mreturn\u001b[39;00m \u001b[43m_evaluate\u001b[49m\u001b[43m(\u001b[49m\u001b[43mop\u001b[49m\u001b[43m,\u001b[49m\u001b[43m \u001b[49m\u001b[43mop_str\u001b[49m\u001b[43m,\u001b[49m\u001b[43m \u001b[49m\u001b[43ma\u001b[49m\u001b[43m,\u001b[49m\u001b[43m \u001b[49m\u001b[43mb\u001b[49m\u001b[43m)\u001b[49m  \u001b[38;5;66;03m# type: ignore[misc]\u001b[39;00m\n\u001b[0;32m    240\u001b[0m \u001b[38;5;28;01mreturn\u001b[39;00m _evaluate_standard(op, op_str, a, b)\n",
      "File \u001b[1;32mC:\\ProgramData\\Anaconda3\\envs\\datascience\\lib\\site-packages\\pandas\\core\\computation\\expressions.py:128\u001b[0m, in \u001b[0;36m_evaluate_numexpr\u001b[1;34m(op, op_str, a, b)\u001b[0m\n\u001b[0;32m    127\u001b[0m \u001b[38;5;28;01mif\u001b[39;00m result \u001b[38;5;129;01mis\u001b[39;00m \u001b[38;5;28;01mNone\u001b[39;00m:\n\u001b[1;32m--> 128\u001b[0m     result \u001b[38;5;241m=\u001b[39m \u001b[43m_evaluate_standard\u001b[49m\u001b[43m(\u001b[49m\u001b[43mop\u001b[49m\u001b[43m,\u001b[49m\u001b[43m \u001b[49m\u001b[43mop_str\u001b[49m\u001b[43m,\u001b[49m\u001b[43m \u001b[49m\u001b[43ma\u001b[49m\u001b[43m,\u001b[49m\u001b[43m \u001b[49m\u001b[43mb\u001b[49m\u001b[43m)\u001b[49m\n\u001b[0;32m    130\u001b[0m \u001b[38;5;28;01mreturn\u001b[39;00m result\n",
      "File \u001b[1;32mC:\\ProgramData\\Anaconda3\\envs\\datascience\\lib\\site-packages\\pandas\\core\\computation\\expressions.py:69\u001b[0m, in \u001b[0;36m_evaluate_standard\u001b[1;34m(op, op_str, a, b)\u001b[0m\n\u001b[0;32m     68\u001b[0m     _store_test_result(\u001b[38;5;28;01mFalse\u001b[39;00m)\n\u001b[1;32m---> 69\u001b[0m \u001b[38;5;28;01mreturn\u001b[39;00m \u001b[43mop\u001b[49m\u001b[43m(\u001b[49m\u001b[43ma\u001b[49m\u001b[43m,\u001b[49m\u001b[43m \u001b[49m\u001b[43mb\u001b[49m\u001b[43m)\u001b[49m\n",
      "\u001b[1;31mTypeError\u001b[0m: unsupported operand type(s) for -: 'str' and 'str'",
      "\nDuring handling of the above exception, another exception occurred:\n",
      "\u001b[1;31mTypeError\u001b[0m                                 Traceback (most recent call last)",
      "Input \u001b[1;32mIn [101]\u001b[0m, in \u001b[0;36m<cell line: 7>\u001b[1;34m()\u001b[0m\n\u001b[0;32m      5\u001b[0m date2\u001b[38;5;241m=\u001b[39mpromnt[\u001b[38;5;124m'\u001b[39m\u001b[38;5;124mApproval Date\u001b[39m\u001b[38;5;124m'\u001b[39m]\n\u001b[0;32m      6\u001b[0m date1\u001b[38;5;241m=\u001b[39mpromnt[\u001b[38;5;124m'\u001b[39m\u001b[38;5;124mRequest Date\u001b[39m\u001b[38;5;124m'\u001b[39m]\n\u001b[1;32m----> 7\u001b[0m promnt[\u001b[38;5;124m'\u001b[39m\u001b[38;5;124mlead_time\u001b[39m\u001b[38;5;124m'\u001b[39m]\u001b[38;5;241m=\u001b[39m\u001b[43mleadtime\u001b[49m\u001b[43m(\u001b[49m\u001b[43mdate1\u001b[49m\u001b[43m,\u001b[49m\u001b[43m \u001b[49m\u001b[43mdate2\u001b[49m\u001b[43m)\u001b[49m\n\u001b[0;32m      8\u001b[0m promnt\u001b[38;5;241m.\u001b[39mhead()\n",
      "Input \u001b[1;32mIn [101]\u001b[0m, in \u001b[0;36mleadtime\u001b[1;34m(date1, date2)\u001b[0m\n\u001b[0;32m      3\u001b[0m \u001b[38;5;28;01mdef\u001b[39;00m \u001b[38;5;21mleadtime\u001b[39m(date1, date2):\n\u001b[1;32m----> 4\u001b[0m     \u001b[38;5;28;01mreturn\u001b[39;00m (\u001b[43mdate2\u001b[49m\u001b[38;5;241;43m-\u001b[39;49m\u001b[43mdate1\u001b[49m)\u001b[38;5;241m.\u001b[39mdays\n",
      "File \u001b[1;32mC:\\ProgramData\\Anaconda3\\envs\\datascience\\lib\\site-packages\\pandas\\core\\ops\\common.py:70\u001b[0m, in \u001b[0;36m_unpack_zerodim_and_defer.<locals>.new_method\u001b[1;34m(self, other)\u001b[0m\n\u001b[0;32m     66\u001b[0m             \u001b[38;5;28;01mreturn\u001b[39;00m \u001b[38;5;28mNotImplemented\u001b[39m\n\u001b[0;32m     68\u001b[0m other \u001b[38;5;241m=\u001b[39m item_from_zerodim(other)\n\u001b[1;32m---> 70\u001b[0m \u001b[38;5;28;01mreturn\u001b[39;00m \u001b[43mmethod\u001b[49m\u001b[43m(\u001b[49m\u001b[38;5;28;43mself\u001b[39;49m\u001b[43m,\u001b[49m\u001b[43m \u001b[49m\u001b[43mother\u001b[49m\u001b[43m)\u001b[49m\n",
      "File \u001b[1;32mC:\\ProgramData\\Anaconda3\\envs\\datascience\\lib\\site-packages\\pandas\\core\\arraylike.py:108\u001b[0m, in \u001b[0;36mOpsMixin.__sub__\u001b[1;34m(self, other)\u001b[0m\n\u001b[0;32m    106\u001b[0m \u001b[38;5;129m@unpack_zerodim_and_defer\u001b[39m(\u001b[38;5;124m\"\u001b[39m\u001b[38;5;124m__sub__\u001b[39m\u001b[38;5;124m\"\u001b[39m)\n\u001b[0;32m    107\u001b[0m \u001b[38;5;28;01mdef\u001b[39;00m \u001b[38;5;21m__sub__\u001b[39m(\u001b[38;5;28mself\u001b[39m, other):\n\u001b[1;32m--> 108\u001b[0m     \u001b[38;5;28;01mreturn\u001b[39;00m \u001b[38;5;28;43mself\u001b[39;49m\u001b[38;5;241;43m.\u001b[39;49m\u001b[43m_arith_method\u001b[49m\u001b[43m(\u001b[49m\u001b[43mother\u001b[49m\u001b[43m,\u001b[49m\u001b[43m \u001b[49m\u001b[43moperator\u001b[49m\u001b[38;5;241;43m.\u001b[39;49m\u001b[43msub\u001b[49m\u001b[43m)\u001b[49m\n",
      "File \u001b[1;32mC:\\ProgramData\\Anaconda3\\envs\\datascience\\lib\\site-packages\\pandas\\core\\series.py:5639\u001b[0m, in \u001b[0;36mSeries._arith_method\u001b[1;34m(self, other, op)\u001b[0m\n\u001b[0;32m   5637\u001b[0m \u001b[38;5;28;01mdef\u001b[39;00m \u001b[38;5;21m_arith_method\u001b[39m(\u001b[38;5;28mself\u001b[39m, other, op):\n\u001b[0;32m   5638\u001b[0m     \u001b[38;5;28mself\u001b[39m, other \u001b[38;5;241m=\u001b[39m ops\u001b[38;5;241m.\u001b[39malign_method_SERIES(\u001b[38;5;28mself\u001b[39m, other)\n\u001b[1;32m-> 5639\u001b[0m     \u001b[38;5;28;01mreturn\u001b[39;00m \u001b[43mbase\u001b[49m\u001b[38;5;241;43m.\u001b[39;49m\u001b[43mIndexOpsMixin\u001b[49m\u001b[38;5;241;43m.\u001b[39;49m\u001b[43m_arith_method\u001b[49m\u001b[43m(\u001b[49m\u001b[38;5;28;43mself\u001b[39;49m\u001b[43m,\u001b[49m\u001b[43m \u001b[49m\u001b[43mother\u001b[49m\u001b[43m,\u001b[49m\u001b[43m \u001b[49m\u001b[43mop\u001b[49m\u001b[43m)\u001b[49m\n",
      "File \u001b[1;32mC:\\ProgramData\\Anaconda3\\envs\\datascience\\lib\\site-packages\\pandas\\core\\base.py:1295\u001b[0m, in \u001b[0;36mIndexOpsMixin._arith_method\u001b[1;34m(self, other, op)\u001b[0m\n\u001b[0;32m   1292\u001b[0m rvalues \u001b[38;5;241m=\u001b[39m ensure_wrapped_if_datetimelike(rvalues)\n\u001b[0;32m   1294\u001b[0m \u001b[38;5;28;01mwith\u001b[39;00m np\u001b[38;5;241m.\u001b[39merrstate(\u001b[38;5;28mall\u001b[39m\u001b[38;5;241m=\u001b[39m\u001b[38;5;124m\"\u001b[39m\u001b[38;5;124mignore\u001b[39m\u001b[38;5;124m\"\u001b[39m):\n\u001b[1;32m-> 1295\u001b[0m     result \u001b[38;5;241m=\u001b[39m \u001b[43mops\u001b[49m\u001b[38;5;241;43m.\u001b[39;49m\u001b[43marithmetic_op\u001b[49m\u001b[43m(\u001b[49m\u001b[43mlvalues\u001b[49m\u001b[43m,\u001b[49m\u001b[43m \u001b[49m\u001b[43mrvalues\u001b[49m\u001b[43m,\u001b[49m\u001b[43m \u001b[49m\u001b[43mop\u001b[49m\u001b[43m)\u001b[49m\n\u001b[0;32m   1297\u001b[0m \u001b[38;5;28;01mreturn\u001b[39;00m \u001b[38;5;28mself\u001b[39m\u001b[38;5;241m.\u001b[39m_construct_result(result, name\u001b[38;5;241m=\u001b[39mres_name)\n",
      "File \u001b[1;32mC:\\ProgramData\\Anaconda3\\envs\\datascience\\lib\\site-packages\\pandas\\core\\ops\\array_ops.py:222\u001b[0m, in \u001b[0;36marithmetic_op\u001b[1;34m(left, right, op)\u001b[0m\n\u001b[0;32m    217\u001b[0m \u001b[38;5;28;01melse\u001b[39;00m:\n\u001b[0;32m    218\u001b[0m     \u001b[38;5;66;03m# TODO we should handle EAs consistently and move this check before the if/else\u001b[39;00m\n\u001b[0;32m    219\u001b[0m     \u001b[38;5;66;03m# (https://github.com/pandas-dev/pandas/issues/41165)\u001b[39;00m\n\u001b[0;32m    220\u001b[0m     _bool_arith_check(op, left, right)\n\u001b[1;32m--> 222\u001b[0m     res_values \u001b[38;5;241m=\u001b[39m \u001b[43m_na_arithmetic_op\u001b[49m\u001b[43m(\u001b[49m\u001b[43mleft\u001b[49m\u001b[43m,\u001b[49m\u001b[43m \u001b[49m\u001b[43mright\u001b[49m\u001b[43m,\u001b[49m\u001b[43m \u001b[49m\u001b[43mop\u001b[49m\u001b[43m)\u001b[49m\n\u001b[0;32m    224\u001b[0m \u001b[38;5;28;01mreturn\u001b[39;00m res_values\n",
      "File \u001b[1;32mC:\\ProgramData\\Anaconda3\\envs\\datascience\\lib\\site-packages\\pandas\\core\\ops\\array_ops.py:170\u001b[0m, in \u001b[0;36m_na_arithmetic_op\u001b[1;34m(left, right, op, is_cmp)\u001b[0m\n\u001b[0;32m    164\u001b[0m \u001b[38;5;28;01mexcept\u001b[39;00m \u001b[38;5;167;01mTypeError\u001b[39;00m:\n\u001b[0;32m    165\u001b[0m     \u001b[38;5;28;01mif\u001b[39;00m \u001b[38;5;129;01mnot\u001b[39;00m is_cmp \u001b[38;5;129;01mand\u001b[39;00m (is_object_dtype(left\u001b[38;5;241m.\u001b[39mdtype) \u001b[38;5;129;01mor\u001b[39;00m is_object_dtype(right)):\n\u001b[0;32m    166\u001b[0m         \u001b[38;5;66;03m# For object dtype, fallback to a masked operation (only operating\u001b[39;00m\n\u001b[0;32m    167\u001b[0m         \u001b[38;5;66;03m#  on the non-missing values)\u001b[39;00m\n\u001b[0;32m    168\u001b[0m         \u001b[38;5;66;03m# Don't do this for comparisons, as that will handle complex numbers\u001b[39;00m\n\u001b[0;32m    169\u001b[0m         \u001b[38;5;66;03m#  incorrectly, see GH#32047\u001b[39;00m\n\u001b[1;32m--> 170\u001b[0m         result \u001b[38;5;241m=\u001b[39m \u001b[43m_masked_arith_op\u001b[49m\u001b[43m(\u001b[49m\u001b[43mleft\u001b[49m\u001b[43m,\u001b[49m\u001b[43m \u001b[49m\u001b[43mright\u001b[49m\u001b[43m,\u001b[49m\u001b[43m \u001b[49m\u001b[43mop\u001b[49m\u001b[43m)\u001b[49m\n\u001b[0;32m    171\u001b[0m     \u001b[38;5;28;01melse\u001b[39;00m:\n\u001b[0;32m    172\u001b[0m         \u001b[38;5;28;01mraise\u001b[39;00m\n",
      "File \u001b[1;32mC:\\ProgramData\\Anaconda3\\envs\\datascience\\lib\\site-packages\\pandas\\core\\ops\\array_ops.py:108\u001b[0m, in \u001b[0;36m_masked_arith_op\u001b[1;34m(x, y, op)\u001b[0m\n\u001b[0;32m    106\u001b[0m     \u001b[38;5;66;03m# See GH#5284, GH#5035, GH#19448 for historical reference\u001b[39;00m\n\u001b[0;32m    107\u001b[0m     \u001b[38;5;28;01mif\u001b[39;00m mask\u001b[38;5;241m.\u001b[39many():\n\u001b[1;32m--> 108\u001b[0m         result[mask] \u001b[38;5;241m=\u001b[39m \u001b[43mop\u001b[49m\u001b[43m(\u001b[49m\u001b[43mxrav\u001b[49m\u001b[43m[\u001b[49m\u001b[43mmask\u001b[49m\u001b[43m]\u001b[49m\u001b[43m,\u001b[49m\u001b[43m \u001b[49m\u001b[43myrav\u001b[49m\u001b[43m[\u001b[49m\u001b[43mmask\u001b[49m\u001b[43m]\u001b[49m\u001b[43m)\u001b[49m\n\u001b[0;32m    110\u001b[0m \u001b[38;5;28;01melse\u001b[39;00m:\n\u001b[0;32m    111\u001b[0m     \u001b[38;5;28;01mif\u001b[39;00m \u001b[38;5;129;01mnot\u001b[39;00m is_scalar(y):\n",
      "\u001b[1;31mTypeError\u001b[0m: unsupported operand type(s) for -: 'str' and 'str'"
     ]
    }
   ],
   "source": [
    "# then create a column called lead time which subtracts the two datetimes\n",
    "from datetime import date\n",
    "def leadtime(date1, date2):\n",
    "    return (date2-date1).days\n",
    "date2=promnt['Approval Date']\n",
    "date1=promnt['Request Date']\n",
    "promnt['lead_time']=leadtime(date1, date2)\n",
    "promnt.head()"
   ]
  },
  {
   "cell_type": "markdown",
   "id": "652eec15",
   "metadata": {},
   "source": [
    "# 3. order request frequency KPI"
   ]
  },
  {
   "cell_type": "code",
   "execution_count": 114,
   "id": "ccc56361",
   "metadata": {},
   "outputs": [
    {
     "ename": "TypeError",
     "evalue": "datetime64 type does not support add operations",
     "output_type": "error",
     "traceback": [
      "\u001b[1;31m---------------------------------------------------------------------------\u001b[0m",
      "\u001b[1;31mTypeError\u001b[0m                                 Traceback (most recent call last)",
      "Input \u001b[1;32mIn [114]\u001b[0m, in \u001b[0;36m<cell line: 1>\u001b[1;34m()\u001b[0m\n\u001b[1;32m----> 1\u001b[0m Budget_by_order1\u001b[38;5;241m=\u001b[39m\u001b[43mpromnt\u001b[49m\u001b[38;5;241;43m.\u001b[39;49m\u001b[43mgroupby\u001b[49m\u001b[43m(\u001b[49m\u001b[43mby\u001b[49m\u001b[38;5;241;43m=\u001b[39;49m\u001b[43m[\u001b[49m\u001b[38;5;124;43m'\u001b[39;49m\u001b[38;5;124;43mDepartment\u001b[39;49m\u001b[38;5;124;43m'\u001b[39;49m\u001b[43m,\u001b[49m\u001b[38;5;124;43m'\u001b[39;49m\u001b[38;5;124;43mCountry\u001b[39;49m\u001b[38;5;124;43m'\u001b[39;49m\u001b[43m]\u001b[49m\u001b[43m)\u001b[49m\u001b[38;5;241;43m.\u001b[39;49m\u001b[43magg\u001b[49m\u001b[43m(\u001b[49m\u001b[43m{\u001b[49m\u001b[38;5;124;43m'\u001b[39;49m\u001b[38;5;124;43mapproval_time\u001b[39;49m\u001b[38;5;124;43m'\u001b[39;49m\u001b[43m:\u001b[49m\u001b[38;5;124;43m'\u001b[39;49m\u001b[38;5;124;43msum\u001b[39;49m\u001b[38;5;124;43m'\u001b[39;49m\u001b[43m}\u001b[49m\u001b[43m)\u001b[49m\n",
      "File \u001b[1;32mC:\\ProgramData\\Anaconda3\\envs\\datascience\\lib\\site-packages\\pandas\\core\\groupby\\generic.py:869\u001b[0m, in \u001b[0;36mDataFrameGroupBy.aggregate\u001b[1;34m(self, func, engine, engine_kwargs, *args, **kwargs)\u001b[0m\n\u001b[0;32m    866\u001b[0m func \u001b[38;5;241m=\u001b[39m maybe_mangle_lambdas(func)\n\u001b[0;32m    868\u001b[0m op \u001b[38;5;241m=\u001b[39m GroupByApply(\u001b[38;5;28mself\u001b[39m, func, args, kwargs)\n\u001b[1;32m--> 869\u001b[0m result \u001b[38;5;241m=\u001b[39m \u001b[43mop\u001b[49m\u001b[38;5;241;43m.\u001b[39;49m\u001b[43magg\u001b[49m\u001b[43m(\u001b[49m\u001b[43m)\u001b[49m\n\u001b[0;32m    870\u001b[0m \u001b[38;5;28;01mif\u001b[39;00m \u001b[38;5;129;01mnot\u001b[39;00m is_dict_like(func) \u001b[38;5;129;01mand\u001b[39;00m result \u001b[38;5;129;01mis\u001b[39;00m \u001b[38;5;129;01mnot\u001b[39;00m \u001b[38;5;28;01mNone\u001b[39;00m:\n\u001b[0;32m    871\u001b[0m     \u001b[38;5;28;01mreturn\u001b[39;00m result\n",
      "File \u001b[1;32mC:\\ProgramData\\Anaconda3\\envs\\datascience\\lib\\site-packages\\pandas\\core\\apply.py:168\u001b[0m, in \u001b[0;36mApply.agg\u001b[1;34m(self)\u001b[0m\n\u001b[0;32m    165\u001b[0m     \u001b[38;5;28;01mreturn\u001b[39;00m \u001b[38;5;28mself\u001b[39m\u001b[38;5;241m.\u001b[39mapply_str()\n\u001b[0;32m    167\u001b[0m \u001b[38;5;28;01mif\u001b[39;00m is_dict_like(arg):\n\u001b[1;32m--> 168\u001b[0m     \u001b[38;5;28;01mreturn\u001b[39;00m \u001b[38;5;28;43mself\u001b[39;49m\u001b[38;5;241;43m.\u001b[39;49m\u001b[43magg_dict_like\u001b[49m\u001b[43m(\u001b[49m\u001b[43m)\u001b[49m\n\u001b[0;32m    169\u001b[0m \u001b[38;5;28;01melif\u001b[39;00m is_list_like(arg):\n\u001b[0;32m    170\u001b[0m     \u001b[38;5;66;03m# we require a list, but not a 'str'\u001b[39;00m\n\u001b[0;32m    171\u001b[0m     \u001b[38;5;28;01mreturn\u001b[39;00m \u001b[38;5;28mself\u001b[39m\u001b[38;5;241m.\u001b[39magg_list_like()\n",
      "File \u001b[1;32mC:\\ProgramData\\Anaconda3\\envs\\datascience\\lib\\site-packages\\pandas\\core\\apply.py:481\u001b[0m, in \u001b[0;36mApply.agg_dict_like\u001b[1;34m(self)\u001b[0m\n\u001b[0;32m    478\u001b[0m     results \u001b[38;5;241m=\u001b[39m {key: colg\u001b[38;5;241m.\u001b[39magg(how) \u001b[38;5;28;01mfor\u001b[39;00m key, how \u001b[38;5;129;01min\u001b[39;00m arg\u001b[38;5;241m.\u001b[39mitems()}\n\u001b[0;32m    479\u001b[0m \u001b[38;5;28;01melse\u001b[39;00m:\n\u001b[0;32m    480\u001b[0m     \u001b[38;5;66;03m# key used for column selection and output\u001b[39;00m\n\u001b[1;32m--> 481\u001b[0m     results \u001b[38;5;241m=\u001b[39m {\n\u001b[0;32m    482\u001b[0m         key: obj\u001b[38;5;241m.\u001b[39m_gotitem(key, ndim\u001b[38;5;241m=\u001b[39m\u001b[38;5;241m1\u001b[39m)\u001b[38;5;241m.\u001b[39magg(how) \u001b[38;5;28;01mfor\u001b[39;00m key, how \u001b[38;5;129;01min\u001b[39;00m arg\u001b[38;5;241m.\u001b[39mitems()\n\u001b[0;32m    483\u001b[0m     }\n\u001b[0;32m    485\u001b[0m \u001b[38;5;66;03m# set the final keys\u001b[39;00m\n\u001b[0;32m    486\u001b[0m keys \u001b[38;5;241m=\u001b[39m \u001b[38;5;28mlist\u001b[39m(arg\u001b[38;5;241m.\u001b[39mkeys())\n",
      "File \u001b[1;32mC:\\ProgramData\\Anaconda3\\envs\\datascience\\lib\\site-packages\\pandas\\core\\apply.py:482\u001b[0m, in \u001b[0;36m<dictcomp>\u001b[1;34m(.0)\u001b[0m\n\u001b[0;32m    478\u001b[0m     results \u001b[38;5;241m=\u001b[39m {key: colg\u001b[38;5;241m.\u001b[39magg(how) \u001b[38;5;28;01mfor\u001b[39;00m key, how \u001b[38;5;129;01min\u001b[39;00m arg\u001b[38;5;241m.\u001b[39mitems()}\n\u001b[0;32m    479\u001b[0m \u001b[38;5;28;01melse\u001b[39;00m:\n\u001b[0;32m    480\u001b[0m     \u001b[38;5;66;03m# key used for column selection and output\u001b[39;00m\n\u001b[0;32m    481\u001b[0m     results \u001b[38;5;241m=\u001b[39m {\n\u001b[1;32m--> 482\u001b[0m         key: \u001b[43mobj\u001b[49m\u001b[38;5;241;43m.\u001b[39;49m\u001b[43m_gotitem\u001b[49m\u001b[43m(\u001b[49m\u001b[43mkey\u001b[49m\u001b[43m,\u001b[49m\u001b[43m \u001b[49m\u001b[43mndim\u001b[49m\u001b[38;5;241;43m=\u001b[39;49m\u001b[38;5;241;43m1\u001b[39;49m\u001b[43m)\u001b[49m\u001b[38;5;241;43m.\u001b[39;49m\u001b[43magg\u001b[49m\u001b[43m(\u001b[49m\u001b[43mhow\u001b[49m\u001b[43m)\u001b[49m \u001b[38;5;28;01mfor\u001b[39;00m key, how \u001b[38;5;129;01min\u001b[39;00m arg\u001b[38;5;241m.\u001b[39mitems()\n\u001b[0;32m    483\u001b[0m     }\n\u001b[0;32m    485\u001b[0m \u001b[38;5;66;03m# set the final keys\u001b[39;00m\n\u001b[0;32m    486\u001b[0m keys \u001b[38;5;241m=\u001b[39m \u001b[38;5;28mlist\u001b[39m(arg\u001b[38;5;241m.\u001b[39mkeys())\n",
      "File \u001b[1;32mC:\\ProgramData\\Anaconda3\\envs\\datascience\\lib\\site-packages\\pandas\\core\\groupby\\generic.py:265\u001b[0m, in \u001b[0;36mSeriesGroupBy.aggregate\u001b[1;34m(self, func, engine, engine_kwargs, *args, **kwargs)\u001b[0m\n\u001b[0;32m    262\u001b[0m     kwargs \u001b[38;5;241m=\u001b[39m {}\n\u001b[0;32m    264\u001b[0m \u001b[38;5;28;01mif\u001b[39;00m \u001b[38;5;28misinstance\u001b[39m(func, \u001b[38;5;28mstr\u001b[39m):\n\u001b[1;32m--> 265\u001b[0m     \u001b[38;5;28;01mreturn\u001b[39;00m \u001b[38;5;28mgetattr\u001b[39m(\u001b[38;5;28mself\u001b[39m, func)(\u001b[38;5;241m*\u001b[39margs, \u001b[38;5;241m*\u001b[39m\u001b[38;5;241m*\u001b[39mkwargs)\n\u001b[0;32m    267\u001b[0m \u001b[38;5;28;01melif\u001b[39;00m \u001b[38;5;28misinstance\u001b[39m(func, abc\u001b[38;5;241m.\u001b[39mIterable):\n\u001b[0;32m    268\u001b[0m     \u001b[38;5;66;03m# Catch instances of lists / tuples\u001b[39;00m\n\u001b[0;32m    269\u001b[0m     \u001b[38;5;66;03m# but not the class list / tuple itself.\u001b[39;00m\n\u001b[0;32m    270\u001b[0m     func \u001b[38;5;241m=\u001b[39m maybe_mangle_lambdas(func)\n",
      "File \u001b[1;32mC:\\ProgramData\\Anaconda3\\envs\\datascience\\lib\\site-packages\\pandas\\core\\groupby\\groupby.py:2198\u001b[0m, in \u001b[0;36mGroupBy.sum\u001b[1;34m(self, numeric_only, min_count, engine, engine_kwargs)\u001b[0m\n\u001b[0;32m   2194\u001b[0m \u001b[38;5;66;03m# If we are grouping on categoricals we want unobserved categories to\u001b[39;00m\n\u001b[0;32m   2195\u001b[0m \u001b[38;5;66;03m# return zero, rather than the default of NaN which the reindexing in\u001b[39;00m\n\u001b[0;32m   2196\u001b[0m \u001b[38;5;66;03m# _agg_general() returns. GH #31422\u001b[39;00m\n\u001b[0;32m   2197\u001b[0m \u001b[38;5;28;01mwith\u001b[39;00m com\u001b[38;5;241m.\u001b[39mtemp_setattr(\u001b[38;5;28mself\u001b[39m, \u001b[38;5;124m\"\u001b[39m\u001b[38;5;124mobserved\u001b[39m\u001b[38;5;124m\"\u001b[39m, \u001b[38;5;28;01mTrue\u001b[39;00m):\n\u001b[1;32m-> 2198\u001b[0m     result \u001b[38;5;241m=\u001b[39m \u001b[38;5;28;43mself\u001b[39;49m\u001b[38;5;241;43m.\u001b[39;49m\u001b[43m_agg_general\u001b[49m\u001b[43m(\u001b[49m\n\u001b[0;32m   2199\u001b[0m \u001b[43m        \u001b[49m\u001b[43mnumeric_only\u001b[49m\u001b[38;5;241;43m=\u001b[39;49m\u001b[43mnumeric_only\u001b[49m\u001b[43m,\u001b[49m\n\u001b[0;32m   2200\u001b[0m \u001b[43m        \u001b[49m\u001b[43mmin_count\u001b[49m\u001b[38;5;241;43m=\u001b[39;49m\u001b[43mmin_count\u001b[49m\u001b[43m,\u001b[49m\n\u001b[0;32m   2201\u001b[0m \u001b[43m        \u001b[49m\u001b[43malias\u001b[49m\u001b[38;5;241;43m=\u001b[39;49m\u001b[38;5;124;43m\"\u001b[39;49m\u001b[38;5;124;43madd\u001b[39;49m\u001b[38;5;124;43m\"\u001b[39;49m\u001b[43m,\u001b[49m\n\u001b[0;32m   2202\u001b[0m \u001b[43m        \u001b[49m\u001b[43mnpfunc\u001b[49m\u001b[38;5;241;43m=\u001b[39;49m\u001b[43mnp\u001b[49m\u001b[38;5;241;43m.\u001b[39;49m\u001b[43msum\u001b[49m\u001b[43m,\u001b[49m\n\u001b[0;32m   2203\u001b[0m \u001b[43m    \u001b[49m\u001b[43m)\u001b[49m\n\u001b[0;32m   2205\u001b[0m \u001b[38;5;28;01mreturn\u001b[39;00m \u001b[38;5;28mself\u001b[39m\u001b[38;5;241m.\u001b[39m_reindex_output(result, fill_value\u001b[38;5;241m=\u001b[39m\u001b[38;5;241m0\u001b[39m)\n",
      "File \u001b[1;32mC:\\ProgramData\\Anaconda3\\envs\\datascience\\lib\\site-packages\\pandas\\core\\groupby\\groupby.py:1515\u001b[0m, in \u001b[0;36mGroupBy._agg_general\u001b[1;34m(self, numeric_only, min_count, alias, npfunc)\u001b[0m\n\u001b[0;32m   1503\u001b[0m \u001b[38;5;129m@final\u001b[39m\n\u001b[0;32m   1504\u001b[0m \u001b[38;5;28;01mdef\u001b[39;00m \u001b[38;5;21m_agg_general\u001b[39m(\n\u001b[0;32m   1505\u001b[0m     \u001b[38;5;28mself\u001b[39m,\n\u001b[1;32m   (...)\u001b[0m\n\u001b[0;32m   1510\u001b[0m     npfunc: Callable,\n\u001b[0;32m   1511\u001b[0m ):\n\u001b[0;32m   1513\u001b[0m     \u001b[38;5;28;01mwith\u001b[39;00m \u001b[38;5;28mself\u001b[39m\u001b[38;5;241m.\u001b[39m_group_selection_context():\n\u001b[0;32m   1514\u001b[0m         \u001b[38;5;66;03m# try a cython aggregation if we can\u001b[39;00m\n\u001b[1;32m-> 1515\u001b[0m         result \u001b[38;5;241m=\u001b[39m \u001b[38;5;28;43mself\u001b[39;49m\u001b[38;5;241;43m.\u001b[39;49m\u001b[43m_cython_agg_general\u001b[49m\u001b[43m(\u001b[49m\n\u001b[0;32m   1516\u001b[0m \u001b[43m            \u001b[49m\u001b[43mhow\u001b[49m\u001b[38;5;241;43m=\u001b[39;49m\u001b[43malias\u001b[49m\u001b[43m,\u001b[49m\n\u001b[0;32m   1517\u001b[0m \u001b[43m            \u001b[49m\u001b[43malt\u001b[49m\u001b[38;5;241;43m=\u001b[39;49m\u001b[43mnpfunc\u001b[49m\u001b[43m,\u001b[49m\n\u001b[0;32m   1518\u001b[0m \u001b[43m            \u001b[49m\u001b[43mnumeric_only\u001b[49m\u001b[38;5;241;43m=\u001b[39;49m\u001b[43mnumeric_only\u001b[49m\u001b[43m,\u001b[49m\n\u001b[0;32m   1519\u001b[0m \u001b[43m            \u001b[49m\u001b[43mmin_count\u001b[49m\u001b[38;5;241;43m=\u001b[39;49m\u001b[43mmin_count\u001b[49m\u001b[43m,\u001b[49m\n\u001b[0;32m   1520\u001b[0m \u001b[43m        \u001b[49m\u001b[43m)\u001b[49m\n\u001b[0;32m   1521\u001b[0m         \u001b[38;5;28;01mreturn\u001b[39;00m result\u001b[38;5;241m.\u001b[39m__finalize__(\u001b[38;5;28mself\u001b[39m\u001b[38;5;241m.\u001b[39mobj, method\u001b[38;5;241m=\u001b[39m\u001b[38;5;124m\"\u001b[39m\u001b[38;5;124mgroupby\u001b[39m\u001b[38;5;124m\"\u001b[39m)\n",
      "File \u001b[1;32mC:\\ProgramData\\Anaconda3\\envs\\datascience\\lib\\site-packages\\pandas\\core\\groupby\\groupby.py:1601\u001b[0m, in \u001b[0;36mGroupBy._cython_agg_general\u001b[1;34m(self, how, alt, numeric_only, min_count)\u001b[0m\n\u001b[0;32m   1597\u001b[0m     \u001b[38;5;28;01mreturn\u001b[39;00m result\n\u001b[0;32m   1599\u001b[0m \u001b[38;5;66;03m# TypeError -> we may have an exception in trying to aggregate\u001b[39;00m\n\u001b[0;32m   1600\u001b[0m \u001b[38;5;66;03m#  continue and exclude the block\u001b[39;00m\n\u001b[1;32m-> 1601\u001b[0m new_mgr \u001b[38;5;241m=\u001b[39m \u001b[43mdata\u001b[49m\u001b[38;5;241;43m.\u001b[39;49m\u001b[43mgrouped_reduce\u001b[49m\u001b[43m(\u001b[49m\u001b[43marray_func\u001b[49m\u001b[43m,\u001b[49m\u001b[43m \u001b[49m\u001b[43mignore_failures\u001b[49m\u001b[38;5;241;43m=\u001b[39;49m\u001b[38;5;28;43;01mTrue\u001b[39;49;00m\u001b[43m)\u001b[49m\n\u001b[0;32m   1603\u001b[0m \u001b[38;5;28;01mif\u001b[39;00m \u001b[38;5;129;01mnot\u001b[39;00m is_ser \u001b[38;5;129;01mand\u001b[39;00m \u001b[38;5;28mlen\u001b[39m(new_mgr) \u001b[38;5;241m<\u001b[39m \u001b[38;5;28mlen\u001b[39m(data):\n\u001b[0;32m   1604\u001b[0m     warn_dropping_nuisance_columns_deprecated(\u001b[38;5;28mtype\u001b[39m(\u001b[38;5;28mself\u001b[39m), how)\n",
      "File \u001b[1;32mC:\\ProgramData\\Anaconda3\\envs\\datascience\\lib\\site-packages\\pandas\\core\\internals\\base.py:199\u001b[0m, in \u001b[0;36mSingleDataManager.grouped_reduce\u001b[1;34m(self, func, ignore_failures)\u001b[0m\n\u001b[0;32m    193\u001b[0m \u001b[38;5;124;03m\"\"\"\u001b[39;00m\n\u001b[0;32m    194\u001b[0m \u001b[38;5;124;03mignore_failures : bool, default False\u001b[39;00m\n\u001b[0;32m    195\u001b[0m \u001b[38;5;124;03m    Not used; for compatibility with ArrayManager/BlockManager.\u001b[39;00m\n\u001b[0;32m    196\u001b[0m \u001b[38;5;124;03m\"\"\"\u001b[39;00m\n\u001b[0;32m    198\u001b[0m arr \u001b[38;5;241m=\u001b[39m \u001b[38;5;28mself\u001b[39m\u001b[38;5;241m.\u001b[39marray\n\u001b[1;32m--> 199\u001b[0m res \u001b[38;5;241m=\u001b[39m \u001b[43mfunc\u001b[49m\u001b[43m(\u001b[49m\u001b[43marr\u001b[49m\u001b[43m)\u001b[49m\n\u001b[0;32m    200\u001b[0m index \u001b[38;5;241m=\u001b[39m default_index(\u001b[38;5;28mlen\u001b[39m(res))\n\u001b[0;32m    202\u001b[0m mgr \u001b[38;5;241m=\u001b[39m \u001b[38;5;28mtype\u001b[39m(\u001b[38;5;28mself\u001b[39m)\u001b[38;5;241m.\u001b[39mfrom_array(res, index)\n",
      "File \u001b[1;32mC:\\ProgramData\\Anaconda3\\envs\\datascience\\lib\\site-packages\\pandas\\core\\groupby\\groupby.py:1587\u001b[0m, in \u001b[0;36mGroupBy._cython_agg_general.<locals>.array_func\u001b[1;34m(values)\u001b[0m\n\u001b[0;32m   1585\u001b[0m \u001b[38;5;28;01mdef\u001b[39;00m \u001b[38;5;21marray_func\u001b[39m(values: ArrayLike) \u001b[38;5;241m-\u001b[39m\u001b[38;5;241m>\u001b[39m ArrayLike:\n\u001b[0;32m   1586\u001b[0m     \u001b[38;5;28;01mtry\u001b[39;00m:\n\u001b[1;32m-> 1587\u001b[0m         result \u001b[38;5;241m=\u001b[39m \u001b[38;5;28;43mself\u001b[39;49m\u001b[38;5;241;43m.\u001b[39;49m\u001b[43mgrouper\u001b[49m\u001b[38;5;241;43m.\u001b[39;49m\u001b[43m_cython_operation\u001b[49m\u001b[43m(\u001b[49m\n\u001b[0;32m   1588\u001b[0m \u001b[43m            \u001b[49m\u001b[38;5;124;43m\"\u001b[39;49m\u001b[38;5;124;43maggregate\u001b[39;49m\u001b[38;5;124;43m\"\u001b[39;49m\u001b[43m,\u001b[49m\u001b[43m \u001b[49m\u001b[43mvalues\u001b[49m\u001b[43m,\u001b[49m\u001b[43m \u001b[49m\u001b[43mhow\u001b[49m\u001b[43m,\u001b[49m\u001b[43m \u001b[49m\u001b[43maxis\u001b[49m\u001b[38;5;241;43m=\u001b[39;49m\u001b[43mdata\u001b[49m\u001b[38;5;241;43m.\u001b[39;49m\u001b[43mndim\u001b[49m\u001b[43m \u001b[49m\u001b[38;5;241;43m-\u001b[39;49m\u001b[43m \u001b[49m\u001b[38;5;241;43m1\u001b[39;49m\u001b[43m,\u001b[49m\u001b[43m \u001b[49m\u001b[43mmin_count\u001b[49m\u001b[38;5;241;43m=\u001b[39;49m\u001b[43mmin_count\u001b[49m\n\u001b[0;32m   1589\u001b[0m \u001b[43m        \u001b[49m\u001b[43m)\u001b[49m\n\u001b[0;32m   1590\u001b[0m     \u001b[38;5;28;01mexcept\u001b[39;00m \u001b[38;5;167;01mNotImplementedError\u001b[39;00m:\n\u001b[0;32m   1591\u001b[0m         \u001b[38;5;66;03m# generally if we have numeric_only=False\u001b[39;00m\n\u001b[0;32m   1592\u001b[0m         \u001b[38;5;66;03m# and non-applicable functions\u001b[39;00m\n\u001b[0;32m   1593\u001b[0m         \u001b[38;5;66;03m# try to python agg\u001b[39;00m\n\u001b[0;32m   1594\u001b[0m         \u001b[38;5;66;03m# TODO: shouldn't min_count matter?\u001b[39;00m\n\u001b[0;32m   1595\u001b[0m         result \u001b[38;5;241m=\u001b[39m \u001b[38;5;28mself\u001b[39m\u001b[38;5;241m.\u001b[39m_agg_py_fallback(values, ndim\u001b[38;5;241m=\u001b[39mdata\u001b[38;5;241m.\u001b[39mndim, alt\u001b[38;5;241m=\u001b[39malt)\n",
      "File \u001b[1;32mC:\\ProgramData\\Anaconda3\\envs\\datascience\\lib\\site-packages\\pandas\\core\\groupby\\ops.py:939\u001b[0m, in \u001b[0;36mBaseGrouper._cython_operation\u001b[1;34m(self, kind, values, how, axis, min_count, **kwargs)\u001b[0m\n\u001b[0;32m    937\u001b[0m ids, _, _ \u001b[38;5;241m=\u001b[39m \u001b[38;5;28mself\u001b[39m\u001b[38;5;241m.\u001b[39mgroup_info\n\u001b[0;32m    938\u001b[0m ngroups \u001b[38;5;241m=\u001b[39m \u001b[38;5;28mself\u001b[39m\u001b[38;5;241m.\u001b[39mngroups\n\u001b[1;32m--> 939\u001b[0m \u001b[38;5;28;01mreturn\u001b[39;00m cy_op\u001b[38;5;241m.\u001b[39mcython_operation(\n\u001b[0;32m    940\u001b[0m     values\u001b[38;5;241m=\u001b[39mvalues,\n\u001b[0;32m    941\u001b[0m     axis\u001b[38;5;241m=\u001b[39maxis,\n\u001b[0;32m    942\u001b[0m     min_count\u001b[38;5;241m=\u001b[39mmin_count,\n\u001b[0;32m    943\u001b[0m     comp_ids\u001b[38;5;241m=\u001b[39mids,\n\u001b[0;32m    944\u001b[0m     ngroups\u001b[38;5;241m=\u001b[39mngroups,\n\u001b[0;32m    945\u001b[0m     \u001b[38;5;241m*\u001b[39m\u001b[38;5;241m*\u001b[39mkwargs,\n\u001b[0;32m    946\u001b[0m )\n",
      "File \u001b[1;32mC:\\ProgramData\\Anaconda3\\envs\\datascience\\lib\\site-packages\\pandas\\core\\groupby\\ops.py:614\u001b[0m, in \u001b[0;36mWrappedCythonOp.cython_operation\u001b[1;34m(self, values, axis, min_count, comp_ids, ngroups, **kwargs)\u001b[0m\n\u001b[0;32m    610\u001b[0m is_numeric \u001b[38;5;241m=\u001b[39m is_numeric_dtype(dtype)\n\u001b[0;32m    612\u001b[0m \u001b[38;5;66;03m# can we do this operation with our cython functions\u001b[39;00m\n\u001b[0;32m    613\u001b[0m \u001b[38;5;66;03m# if not raise NotImplementedError\u001b[39;00m\n\u001b[1;32m--> 614\u001b[0m \u001b[38;5;28;43mself\u001b[39;49m\u001b[38;5;241;43m.\u001b[39;49m\u001b[43m_disallow_invalid_ops\u001b[49m\u001b[43m(\u001b[49m\u001b[43mdtype\u001b[49m\u001b[43m,\u001b[49m\u001b[43m \u001b[49m\u001b[43mis_numeric\u001b[49m\u001b[43m)\u001b[49m\n\u001b[0;32m    616\u001b[0m \u001b[38;5;28;01mif\u001b[39;00m \u001b[38;5;129;01mnot\u001b[39;00m \u001b[38;5;28misinstance\u001b[39m(values, np\u001b[38;5;241m.\u001b[39mndarray):\n\u001b[0;32m    617\u001b[0m     \u001b[38;5;66;03m# i.e. ExtensionArray\u001b[39;00m\n\u001b[0;32m    618\u001b[0m     \u001b[38;5;28;01mreturn\u001b[39;00m \u001b[38;5;28mself\u001b[39m\u001b[38;5;241m.\u001b[39m_ea_wrap_cython_operation(\n\u001b[0;32m    619\u001b[0m         values,\n\u001b[0;32m    620\u001b[0m         min_count\u001b[38;5;241m=\u001b[39mmin_count,\n\u001b[1;32m   (...)\u001b[0m\n\u001b[0;32m    623\u001b[0m         \u001b[38;5;241m*\u001b[39m\u001b[38;5;241m*\u001b[39mkwargs,\n\u001b[0;32m    624\u001b[0m     )\n",
      "File \u001b[1;32mC:\\ProgramData\\Anaconda3\\envs\\datascience\\lib\\site-packages\\pandas\\core\\groupby\\ops.py:239\u001b[0m, in \u001b[0;36mWrappedCythonOp._disallow_invalid_ops\u001b[1;34m(self, dtype, is_numeric)\u001b[0m\n\u001b[0;32m    235\u001b[0m \u001b[38;5;28;01melif\u001b[39;00m is_datetime64_any_dtype(dtype):\n\u001b[0;32m    236\u001b[0m     \u001b[38;5;66;03m# we raise NotImplemented if this is an invalid operation\u001b[39;00m\n\u001b[0;32m    237\u001b[0m     \u001b[38;5;66;03m#  entirely, e.g. adding datetimes\u001b[39;00m\n\u001b[0;32m    238\u001b[0m     \u001b[38;5;28;01mif\u001b[39;00m how \u001b[38;5;129;01min\u001b[39;00m [\u001b[38;5;124m\"\u001b[39m\u001b[38;5;124madd\u001b[39m\u001b[38;5;124m\"\u001b[39m, \u001b[38;5;124m\"\u001b[39m\u001b[38;5;124mprod\u001b[39m\u001b[38;5;124m\"\u001b[39m, \u001b[38;5;124m\"\u001b[39m\u001b[38;5;124mcumsum\u001b[39m\u001b[38;5;124m\"\u001b[39m, \u001b[38;5;124m\"\u001b[39m\u001b[38;5;124mcumprod\u001b[39m\u001b[38;5;124m\"\u001b[39m]:\n\u001b[1;32m--> 239\u001b[0m         \u001b[38;5;28;01mraise\u001b[39;00m \u001b[38;5;167;01mTypeError\u001b[39;00m(\u001b[38;5;124mf\u001b[39m\u001b[38;5;124m\"\u001b[39m\u001b[38;5;124mdatetime64 type does not support \u001b[39m\u001b[38;5;132;01m{\u001b[39;00mhow\u001b[38;5;132;01m}\u001b[39;00m\u001b[38;5;124m operations\u001b[39m\u001b[38;5;124m\"\u001b[39m)\n\u001b[0;32m    240\u001b[0m \u001b[38;5;28;01melif\u001b[39;00m is_timedelta64_dtype(dtype):\n\u001b[0;32m    241\u001b[0m     \u001b[38;5;28;01mif\u001b[39;00m how \u001b[38;5;129;01min\u001b[39;00m [\u001b[38;5;124m\"\u001b[39m\u001b[38;5;124mprod\u001b[39m\u001b[38;5;124m\"\u001b[39m, \u001b[38;5;124m\"\u001b[39m\u001b[38;5;124mcumprod\u001b[39m\u001b[38;5;124m\"\u001b[39m]:\n",
      "\u001b[1;31mTypeError\u001b[0m: datetime64 type does not support add operations"
     ]
    }
   ],
   "source": [
    "Budget_by_order1=promnt.groupby(by=['Department','Country']).agg({'approval_time':'sum'})"
   ]
  },
  {
   "cell_type": "code",
   "execution_count": null,
   "id": "a86a15de",
   "metadata": {},
   "outputs": [],
   "source": []
  }
 ],
 "metadata": {
  "kernelspec": {
   "display_name": "Python 3 (ipykernel)",
   "language": "python",
   "name": "python3"
  },
  "language_info": {
   "codemirror_mode": {
    "name": "ipython",
    "version": 3
   },
   "file_extension": ".py",
   "mimetype": "text/x-python",
   "name": "python",
   "nbconvert_exporter": "python",
   "pygments_lexer": "ipython3",
   "version": "3.10.4"
  }
 },
 "nbformat": 4,
 "nbformat_minor": 5
}
